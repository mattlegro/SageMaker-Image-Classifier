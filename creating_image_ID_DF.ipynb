{
 "cells": [
  {
   "attachments": {},
   "cell_type": "markdown",
   "metadata": {},
   "source": [
    "# This Notebook"
   ]
  },
  {
   "attachments": {},
   "cell_type": "markdown",
   "metadata": {},
   "source": [
    "In this notebook we will create a DF that contains all the images with columns for their path, Image ID and labels of various forms for training. We will take our Fish DF, go to the folder location, make a column with a list of all the file names per species in that row, then explode the DF on the filename column. Then we can get a look at our image distributions and create our train test val split."
   ]
  },
  {
   "cell_type": "code",
   "execution_count": 1,
   "metadata": {},
   "outputs": [],
   "source": [
    "import os, shutil\n",
    "import pandas as pd\n",
    "import numpy as np\n",
    "from sklearn.model_selection import train_test_split"
   ]
  },
  {
   "cell_type": "code",
   "execution_count": 2,
   "metadata": {},
   "outputs": [],
   "source": [
    "fish_DF = pd.read_pickle('./files/fishspecies_reefguide_info_3.pkl')"
   ]
  },
  {
   "cell_type": "code",
   "execution_count": 3,
   "metadata": {},
   "outputs": [
    {
     "data": {
      "text/html": [
       "<div>\n",
       "<style scoped>\n",
       "    .dataframe tbody tr th:only-of-type {\n",
       "        vertical-align: middle;\n",
       "    }\n",
       "\n",
       "    .dataframe tbody tr th {\n",
       "        vertical-align: top;\n",
       "    }\n",
       "\n",
       "    .dataframe thead th {\n",
       "        text-align: right;\n",
       "    }\n",
       "</style>\n",
       "<table border=\"1\" class=\"dataframe\">\n",
       "  <thead>\n",
       "    <tr style=\"text-align: right;\">\n",
       "      <th></th>\n",
       "      <th>scientific_name</th>\n",
       "      <th>scientific_family</th>\n",
       "      <th>common_name</th>\n",
       "      <th>common_family</th>\n",
       "      <th>size_range_cm</th>\n",
       "      <th>depth_range_m</th>\n",
       "      <th>geodist</th>\n",
       "      <th>smithsonian_href</th>\n",
       "      <th>stj_href</th>\n",
       "    </tr>\n",
       "  </thead>\n",
       "  <tbody>\n",
       "    <tr>\n",
       "      <th>0</th>\n",
       "      <td>Halichoeres bivittatus</td>\n",
       "      <td>Labridae</td>\n",
       "      <td>Slippery Dick</td>\n",
       "      <td>Wrasses</td>\n",
       "      <td>(12.0, 20.0)</td>\n",
       "      <td>(2.0, 12.0)</td>\n",
       "      <td>[Caribbean, Bahamas, Florida, Bermuda, Gulf of...</td>\n",
       "      <td>spe/3894</td>\n",
       "      <td>slippery-dick-wrasse.html</td>\n",
       "    </tr>\n",
       "    <tr>\n",
       "      <th>1</th>\n",
       "      <td>Rypticus bistrispinus</td>\n",
       "      <td>Serranidae</td>\n",
       "      <td>Freckled Soapfish</td>\n",
       "      <td>Soapfishes</td>\n",
       "      <td>(7.5, 13.0)</td>\n",
       "      <td>(3.0, 21.0)</td>\n",
       "      <td>[Caribbean, Bahamas, South Florida, Brazil]</td>\n",
       "      <td>spe/3537</td>\n",
       "      <td>NaN</td>\n",
       "    </tr>\n",
       "    <tr>\n",
       "      <th>2</th>\n",
       "      <td>Apogon binotatus</td>\n",
       "      <td>Apogonidae</td>\n",
       "      <td>Barred Cardinalfish</td>\n",
       "      <td>Cardinalfishes</td>\n",
       "      <td>(0.0, 10.0)</td>\n",
       "      <td>(1.0, 45.0)</td>\n",
       "      <td>[Caribbean, Bahamas, South Florida]</td>\n",
       "      <td>spe/3595</td>\n",
       "      <td>belted-cardinalfish.html</td>\n",
       "    </tr>\n",
       "    <tr>\n",
       "      <th>3</th>\n",
       "      <td>Lutjanus mahogoni</td>\n",
       "      <td>Lutjanidae</td>\n",
       "      <td>Mahogany Snapper</td>\n",
       "      <td>Snappers</td>\n",
       "      <td>(18.0, 30.0)</td>\n",
       "      <td>(6.0, 18.0)</td>\n",
       "      <td>[Caribbean, Bahamas, Florida, Gulf of Mexico]</td>\n",
       "      <td>spe/3690</td>\n",
       "      <td>mahogany-snapper.html</td>\n",
       "    </tr>\n",
       "    <tr>\n",
       "      <th>4</th>\n",
       "      <td>Lutjanus synagris</td>\n",
       "      <td>Lutjanidae</td>\n",
       "      <td>Lane Snapper</td>\n",
       "      <td>Snappers</td>\n",
       "      <td>(20.0, 30.0)</td>\n",
       "      <td>(2.0, 40.0)</td>\n",
       "      <td>[Caribbean, Bahamas, Florida, Gulf of Mexico, ...</td>\n",
       "      <td>spe/3692</td>\n",
       "      <td>lane-snapper.html</td>\n",
       "    </tr>\n",
       "  </tbody>\n",
       "</table>\n",
       "</div>"
      ],
      "text/plain": [
       "          scientific_name scientific_family          common_name  \\\n",
       "0  Halichoeres bivittatus          Labridae        Slippery Dick   \n",
       "1   Rypticus bistrispinus        Serranidae    Freckled Soapfish   \n",
       "2        Apogon binotatus        Apogonidae  Barred Cardinalfish   \n",
       "3       Lutjanus mahogoni        Lutjanidae     Mahogany Snapper   \n",
       "4       Lutjanus synagris        Lutjanidae         Lane Snapper   \n",
       "\n",
       "    common_family size_range_cm depth_range_m  \\\n",
       "0         Wrasses  (12.0, 20.0)   (2.0, 12.0)   \n",
       "1      Soapfishes   (7.5, 13.0)   (3.0, 21.0)   \n",
       "2  Cardinalfishes   (0.0, 10.0)   (1.0, 45.0)   \n",
       "3        Snappers  (18.0, 30.0)   (6.0, 18.0)   \n",
       "4        Snappers  (20.0, 30.0)   (2.0, 40.0)   \n",
       "\n",
       "                                             geodist smithsonian_href  \\\n",
       "0  [Caribbean, Bahamas, Florida, Bermuda, Gulf of...         spe/3894   \n",
       "1        [Caribbean, Bahamas, South Florida, Brazil]         spe/3537   \n",
       "2                [Caribbean, Bahamas, South Florida]         spe/3595   \n",
       "3      [Caribbean, Bahamas, Florida, Gulf of Mexico]         spe/3690   \n",
       "4  [Caribbean, Bahamas, Florida, Gulf of Mexico, ...         spe/3692   \n",
       "\n",
       "                    stj_href  \n",
       "0  slippery-dick-wrasse.html  \n",
       "1                        NaN  \n",
       "2   belted-cardinalfish.html  \n",
       "3      mahogany-snapper.html  \n",
       "4          lane-snapper.html  "
      ]
     },
     "execution_count": 3,
     "metadata": {},
     "output_type": "execute_result"
    }
   ],
   "source": [
    "fish_DF.head()"
   ]
  },
  {
   "cell_type": "code",
   "execution_count": 4,
   "metadata": {},
   "outputs": [
    {
     "name": "stdout",
     "output_type": "stream",
     "text": [
      "<class 'pandas.core.frame.DataFrame'>\n",
      "RangeIndex: 263 entries, 0 to 262\n",
      "Data columns (total 9 columns):\n",
      " #   Column             Non-Null Count  Dtype \n",
      "---  ------             --------------  ----- \n",
      " 0   scientific_name    263 non-null    object\n",
      " 1   scientific_family  263 non-null    object\n",
      " 2   common_name        263 non-null    object\n",
      " 3   common_family      263 non-null    object\n",
      " 4   size_range_cm      263 non-null    object\n",
      " 5   depth_range_m      263 non-null    object\n",
      " 6   geodist            263 non-null    object\n",
      " 7   smithsonian_href   263 non-null    object\n",
      " 8   stj_href           152 non-null    object\n",
      "dtypes: object(9)\n",
      "memory usage: 18.6+ KB\n"
     ]
    }
   ],
   "source": [
    "fish_DF.info()"
   ]
  },
  {
   "cell_type": "code",
   "execution_count": 5,
   "metadata": {},
   "outputs": [],
   "source": [
    "def get_species_images_paths(scientific_name,scientific_family):\n",
    "\n",
    "    path_prefix = 'E:/LargeDatasets/SpeciesID-Images/'\n",
    "    folder_path = path_prefix + scientific_family + '/' + scientific_name.replace(' ','_') + '_'\n",
    "    image_names_list = os.listdir(folder_path)\n",
    "\n",
    "    image_paths_list = []\n",
    "    for name in image_names_list:\n",
    "        image_paths_list.append(folder_path+'/'+name)\n",
    "\n",
    "    return image_paths_list"
   ]
  },
  {
   "cell_type": "code",
   "execution_count": 6,
   "metadata": {},
   "outputs": [
    {
     "data": {
      "text/html": [
       "<div>\n",
       "<style scoped>\n",
       "    .dataframe tbody tr th:only-of-type {\n",
       "        vertical-align: middle;\n",
       "    }\n",
       "\n",
       "    .dataframe tbody tr th {\n",
       "        vertical-align: top;\n",
       "    }\n",
       "\n",
       "    .dataframe thead th {\n",
       "        text-align: right;\n",
       "    }\n",
       "</style>\n",
       "<table border=\"1\" class=\"dataframe\">\n",
       "  <thead>\n",
       "    <tr style=\"text-align: right;\">\n",
       "      <th></th>\n",
       "      <th>scientific_name</th>\n",
       "      <th>scientific_family</th>\n",
       "      <th>common_name</th>\n",
       "      <th>common_family</th>\n",
       "      <th>size_range_cm</th>\n",
       "      <th>depth_range_m</th>\n",
       "      <th>geodist</th>\n",
       "      <th>smithsonian_href</th>\n",
       "      <th>stj_href</th>\n",
       "    </tr>\n",
       "  </thead>\n",
       "  <tbody>\n",
       "    <tr>\n",
       "      <th>0</th>\n",
       "      <td>Halichoeres bivittatus</td>\n",
       "      <td>Labridae</td>\n",
       "      <td>Slippery Dick</td>\n",
       "      <td>Wrasses</td>\n",
       "      <td>(12.0, 20.0)</td>\n",
       "      <td>(2.0, 12.0)</td>\n",
       "      <td>[Caribbean, Bahamas, Florida, Bermuda, Gulf of...</td>\n",
       "      <td>spe/3894</td>\n",
       "      <td>slippery-dick-wrasse.html</td>\n",
       "    </tr>\n",
       "    <tr>\n",
       "      <th>1</th>\n",
       "      <td>Rypticus bistrispinus</td>\n",
       "      <td>Serranidae</td>\n",
       "      <td>Freckled Soapfish</td>\n",
       "      <td>Soapfishes</td>\n",
       "      <td>(7.5, 13.0)</td>\n",
       "      <td>(3.0, 21.0)</td>\n",
       "      <td>[Caribbean, Bahamas, South Florida, Brazil]</td>\n",
       "      <td>spe/3537</td>\n",
       "      <td>NaN</td>\n",
       "    </tr>\n",
       "    <tr>\n",
       "      <th>2</th>\n",
       "      <td>Apogon binotatus</td>\n",
       "      <td>Apogonidae</td>\n",
       "      <td>Barred Cardinalfish</td>\n",
       "      <td>Cardinalfishes</td>\n",
       "      <td>(0.0, 10.0)</td>\n",
       "      <td>(1.0, 45.0)</td>\n",
       "      <td>[Caribbean, Bahamas, South Florida]</td>\n",
       "      <td>spe/3595</td>\n",
       "      <td>belted-cardinalfish.html</td>\n",
       "    </tr>\n",
       "  </tbody>\n",
       "</table>\n",
       "</div>"
      ],
      "text/plain": [
       "          scientific_name scientific_family          common_name  \\\n",
       "0  Halichoeres bivittatus          Labridae        Slippery Dick   \n",
       "1   Rypticus bistrispinus        Serranidae    Freckled Soapfish   \n",
       "2        Apogon binotatus        Apogonidae  Barred Cardinalfish   \n",
       "\n",
       "    common_family size_range_cm depth_range_m  \\\n",
       "0         Wrasses  (12.0, 20.0)   (2.0, 12.0)   \n",
       "1      Soapfishes   (7.5, 13.0)   (3.0, 21.0)   \n",
       "2  Cardinalfishes   (0.0, 10.0)   (1.0, 45.0)   \n",
       "\n",
       "                                             geodist smithsonian_href  \\\n",
       "0  [Caribbean, Bahamas, Florida, Bermuda, Gulf of...         spe/3894   \n",
       "1        [Caribbean, Bahamas, South Florida, Brazil]         spe/3537   \n",
       "2                [Caribbean, Bahamas, South Florida]         spe/3595   \n",
       "\n",
       "                    stj_href  \n",
       "0  slippery-dick-wrasse.html  \n",
       "1                        NaN  \n",
       "2   belted-cardinalfish.html  "
      ]
     },
     "execution_count": 6,
     "metadata": {},
     "output_type": "execute_result"
    }
   ],
   "source": [
    "fish_DF.loc[:2]"
   ]
  },
  {
   "cell_type": "code",
   "execution_count": 7,
   "metadata": {},
   "outputs": [],
   "source": [
    "fish_DF['image_paths'] = pd.Series(dtype=object)\n",
    "fish_DF['image_paths'] = fish_DF.apply(lambda x: get_species_images_paths(x.scientific_name, x.scientific_family), axis = 1)"
   ]
  },
  {
   "cell_type": "code",
   "execution_count": 8,
   "metadata": {},
   "outputs": [
    {
     "data": {
      "text/html": [
       "<div>\n",
       "<style scoped>\n",
       "    .dataframe tbody tr th:only-of-type {\n",
       "        vertical-align: middle;\n",
       "    }\n",
       "\n",
       "    .dataframe tbody tr th {\n",
       "        vertical-align: top;\n",
       "    }\n",
       "\n",
       "    .dataframe thead th {\n",
       "        text-align: right;\n",
       "    }\n",
       "</style>\n",
       "<table border=\"1\" class=\"dataframe\">\n",
       "  <thead>\n",
       "    <tr style=\"text-align: right;\">\n",
       "      <th></th>\n",
       "      <th>scientific_name</th>\n",
       "      <th>scientific_family</th>\n",
       "      <th>common_name</th>\n",
       "      <th>common_family</th>\n",
       "      <th>size_range_cm</th>\n",
       "      <th>depth_range_m</th>\n",
       "      <th>geodist</th>\n",
       "      <th>smithsonian_href</th>\n",
       "      <th>stj_href</th>\n",
       "      <th>image_paths</th>\n",
       "    </tr>\n",
       "  </thead>\n",
       "  <tbody>\n",
       "    <tr>\n",
       "      <th>0</th>\n",
       "      <td>Halichoeres bivittatus</td>\n",
       "      <td>Labridae</td>\n",
       "      <td>Slippery Dick</td>\n",
       "      <td>Wrasses</td>\n",
       "      <td>(12.0, 20.0)</td>\n",
       "      <td>(2.0, 12.0)</td>\n",
       "      <td>[Caribbean, Bahamas, Florida, Bermuda, Gulf of...</td>\n",
       "      <td>spe/3894</td>\n",
       "      <td>slippery-dick-wrasse.html</td>\n",
       "      <td>[E:/LargeDatasets/SpeciesID-Images/Labridae/Ha...</td>\n",
       "    </tr>\n",
       "    <tr>\n",
       "      <th>1</th>\n",
       "      <td>Rypticus bistrispinus</td>\n",
       "      <td>Serranidae</td>\n",
       "      <td>Freckled Soapfish</td>\n",
       "      <td>Soapfishes</td>\n",
       "      <td>(7.5, 13.0)</td>\n",
       "      <td>(3.0, 21.0)</td>\n",
       "      <td>[Caribbean, Bahamas, South Florida, Brazil]</td>\n",
       "      <td>spe/3537</td>\n",
       "      <td>NaN</td>\n",
       "      <td>[E:/LargeDatasets/SpeciesID-Images/Serranidae/...</td>\n",
       "    </tr>\n",
       "    <tr>\n",
       "      <th>2</th>\n",
       "      <td>Apogon binotatus</td>\n",
       "      <td>Apogonidae</td>\n",
       "      <td>Barred Cardinalfish</td>\n",
       "      <td>Cardinalfishes</td>\n",
       "      <td>(0.0, 10.0)</td>\n",
       "      <td>(1.0, 45.0)</td>\n",
       "      <td>[Caribbean, Bahamas, South Florida]</td>\n",
       "      <td>spe/3595</td>\n",
       "      <td>belted-cardinalfish.html</td>\n",
       "      <td>[E:/LargeDatasets/SpeciesID-Images/Apogonidae/...</td>\n",
       "    </tr>\n",
       "    <tr>\n",
       "      <th>3</th>\n",
       "      <td>Lutjanus mahogoni</td>\n",
       "      <td>Lutjanidae</td>\n",
       "      <td>Mahogany Snapper</td>\n",
       "      <td>Snappers</td>\n",
       "      <td>(18.0, 30.0)</td>\n",
       "      <td>(6.0, 18.0)</td>\n",
       "      <td>[Caribbean, Bahamas, Florida, Gulf of Mexico]</td>\n",
       "      <td>spe/3690</td>\n",
       "      <td>mahogany-snapper.html</td>\n",
       "      <td>[E:/LargeDatasets/SpeciesID-Images/Lutjanidae/...</td>\n",
       "    </tr>\n",
       "    <tr>\n",
       "      <th>4</th>\n",
       "      <td>Lutjanus synagris</td>\n",
       "      <td>Lutjanidae</td>\n",
       "      <td>Lane Snapper</td>\n",
       "      <td>Snappers</td>\n",
       "      <td>(20.0, 30.0)</td>\n",
       "      <td>(2.0, 40.0)</td>\n",
       "      <td>[Caribbean, Bahamas, Florida, Gulf of Mexico, ...</td>\n",
       "      <td>spe/3692</td>\n",
       "      <td>lane-snapper.html</td>\n",
       "      <td>[E:/LargeDatasets/SpeciesID-Images/Lutjanidae/...</td>\n",
       "    </tr>\n",
       "  </tbody>\n",
       "</table>\n",
       "</div>"
      ],
      "text/plain": [
       "          scientific_name scientific_family          common_name  \\\n",
       "0  Halichoeres bivittatus          Labridae        Slippery Dick   \n",
       "1   Rypticus bistrispinus        Serranidae    Freckled Soapfish   \n",
       "2        Apogon binotatus        Apogonidae  Barred Cardinalfish   \n",
       "3       Lutjanus mahogoni        Lutjanidae     Mahogany Snapper   \n",
       "4       Lutjanus synagris        Lutjanidae         Lane Snapper   \n",
       "\n",
       "    common_family size_range_cm depth_range_m  \\\n",
       "0         Wrasses  (12.0, 20.0)   (2.0, 12.0)   \n",
       "1      Soapfishes   (7.5, 13.0)   (3.0, 21.0)   \n",
       "2  Cardinalfishes   (0.0, 10.0)   (1.0, 45.0)   \n",
       "3        Snappers  (18.0, 30.0)   (6.0, 18.0)   \n",
       "4        Snappers  (20.0, 30.0)   (2.0, 40.0)   \n",
       "\n",
       "                                             geodist smithsonian_href  \\\n",
       "0  [Caribbean, Bahamas, Florida, Bermuda, Gulf of...         spe/3894   \n",
       "1        [Caribbean, Bahamas, South Florida, Brazil]         spe/3537   \n",
       "2                [Caribbean, Bahamas, South Florida]         spe/3595   \n",
       "3      [Caribbean, Bahamas, Florida, Gulf of Mexico]         spe/3690   \n",
       "4  [Caribbean, Bahamas, Florida, Gulf of Mexico, ...         spe/3692   \n",
       "\n",
       "                    stj_href  \\\n",
       "0  slippery-dick-wrasse.html   \n",
       "1                        NaN   \n",
       "2   belted-cardinalfish.html   \n",
       "3      mahogany-snapper.html   \n",
       "4          lane-snapper.html   \n",
       "\n",
       "                                         image_paths  \n",
       "0  [E:/LargeDatasets/SpeciesID-Images/Labridae/Ha...  \n",
       "1  [E:/LargeDatasets/SpeciesID-Images/Serranidae/...  \n",
       "2  [E:/LargeDatasets/SpeciesID-Images/Apogonidae/...  \n",
       "3  [E:/LargeDatasets/SpeciesID-Images/Lutjanidae/...  \n",
       "4  [E:/LargeDatasets/SpeciesID-Images/Lutjanidae/...  "
      ]
     },
     "execution_count": 8,
     "metadata": {},
     "output_type": "execute_result"
    }
   ],
   "source": [
    "fish_DF.head()"
   ]
  },
  {
   "cell_type": "code",
   "execution_count": 9,
   "metadata": {},
   "outputs": [],
   "source": [
    "expanded_fish_DF = fish_DF.explode('image_paths', ignore_index=True)"
   ]
  },
  {
   "cell_type": "code",
   "execution_count": 10,
   "metadata": {},
   "outputs": [
    {
     "data": {
      "text/html": [
       "<div>\n",
       "<style scoped>\n",
       "    .dataframe tbody tr th:only-of-type {\n",
       "        vertical-align: middle;\n",
       "    }\n",
       "\n",
       "    .dataframe tbody tr th {\n",
       "        vertical-align: top;\n",
       "    }\n",
       "\n",
       "    .dataframe thead th {\n",
       "        text-align: right;\n",
       "    }\n",
       "</style>\n",
       "<table border=\"1\" class=\"dataframe\">\n",
       "  <thead>\n",
       "    <tr style=\"text-align: right;\">\n",
       "      <th></th>\n",
       "      <th>scientific_name</th>\n",
       "      <th>scientific_family</th>\n",
       "      <th>common_name</th>\n",
       "      <th>common_family</th>\n",
       "      <th>size_range_cm</th>\n",
       "      <th>depth_range_m</th>\n",
       "      <th>geodist</th>\n",
       "      <th>smithsonian_href</th>\n",
       "      <th>stj_href</th>\n",
       "      <th>image_paths</th>\n",
       "    </tr>\n",
       "  </thead>\n",
       "  <tbody>\n",
       "    <tr>\n",
       "      <th>0</th>\n",
       "      <td>Halichoeres bivittatus</td>\n",
       "      <td>Labridae</td>\n",
       "      <td>Slippery Dick</td>\n",
       "      <td>Wrasses</td>\n",
       "      <td>(12.0, 20.0)</td>\n",
       "      <td>(2.0, 12.0)</td>\n",
       "      <td>[Caribbean, Bahamas, Florida, Bermuda, Gulf of...</td>\n",
       "      <td>spe/3894</td>\n",
       "      <td>slippery-dick-wrasse.html</td>\n",
       "      <td>E:/LargeDatasets/SpeciesID-Images/Labridae/Hal...</td>\n",
       "    </tr>\n",
       "    <tr>\n",
       "      <th>1</th>\n",
       "      <td>Halichoeres bivittatus</td>\n",
       "      <td>Labridae</td>\n",
       "      <td>Slippery Dick</td>\n",
       "      <td>Wrasses</td>\n",
       "      <td>(12.0, 20.0)</td>\n",
       "      <td>(2.0, 12.0)</td>\n",
       "      <td>[Caribbean, Bahamas, Florida, Bermuda, Gulf of...</td>\n",
       "      <td>spe/3894</td>\n",
       "      <td>slippery-dick-wrasse.html</td>\n",
       "      <td>E:/LargeDatasets/SpeciesID-Images/Labridae/Hal...</td>\n",
       "    </tr>\n",
       "    <tr>\n",
       "      <th>2</th>\n",
       "      <td>Halichoeres bivittatus</td>\n",
       "      <td>Labridae</td>\n",
       "      <td>Slippery Dick</td>\n",
       "      <td>Wrasses</td>\n",
       "      <td>(12.0, 20.0)</td>\n",
       "      <td>(2.0, 12.0)</td>\n",
       "      <td>[Caribbean, Bahamas, Florida, Bermuda, Gulf of...</td>\n",
       "      <td>spe/3894</td>\n",
       "      <td>slippery-dick-wrasse.html</td>\n",
       "      <td>E:/LargeDatasets/SpeciesID-Images/Labridae/Hal...</td>\n",
       "    </tr>\n",
       "    <tr>\n",
       "      <th>3</th>\n",
       "      <td>Halichoeres bivittatus</td>\n",
       "      <td>Labridae</td>\n",
       "      <td>Slippery Dick</td>\n",
       "      <td>Wrasses</td>\n",
       "      <td>(12.0, 20.0)</td>\n",
       "      <td>(2.0, 12.0)</td>\n",
       "      <td>[Caribbean, Bahamas, Florida, Bermuda, Gulf of...</td>\n",
       "      <td>spe/3894</td>\n",
       "      <td>slippery-dick-wrasse.html</td>\n",
       "      <td>E:/LargeDatasets/SpeciesID-Images/Labridae/Hal...</td>\n",
       "    </tr>\n",
       "    <tr>\n",
       "      <th>4</th>\n",
       "      <td>Halichoeres bivittatus</td>\n",
       "      <td>Labridae</td>\n",
       "      <td>Slippery Dick</td>\n",
       "      <td>Wrasses</td>\n",
       "      <td>(12.0, 20.0)</td>\n",
       "      <td>(2.0, 12.0)</td>\n",
       "      <td>[Caribbean, Bahamas, Florida, Bermuda, Gulf of...</td>\n",
       "      <td>spe/3894</td>\n",
       "      <td>slippery-dick-wrasse.html</td>\n",
       "      <td>E:/LargeDatasets/SpeciesID-Images/Labridae/Hal...</td>\n",
       "    </tr>\n",
       "  </tbody>\n",
       "</table>\n",
       "</div>"
      ],
      "text/plain": [
       "          scientific_name scientific_family    common_name common_family  \\\n",
       "0  Halichoeres bivittatus          Labridae  Slippery Dick       Wrasses   \n",
       "1  Halichoeres bivittatus          Labridae  Slippery Dick       Wrasses   \n",
       "2  Halichoeres bivittatus          Labridae  Slippery Dick       Wrasses   \n",
       "3  Halichoeres bivittatus          Labridae  Slippery Dick       Wrasses   \n",
       "4  Halichoeres bivittatus          Labridae  Slippery Dick       Wrasses   \n",
       "\n",
       "  size_range_cm depth_range_m  \\\n",
       "0  (12.0, 20.0)   (2.0, 12.0)   \n",
       "1  (12.0, 20.0)   (2.0, 12.0)   \n",
       "2  (12.0, 20.0)   (2.0, 12.0)   \n",
       "3  (12.0, 20.0)   (2.0, 12.0)   \n",
       "4  (12.0, 20.0)   (2.0, 12.0)   \n",
       "\n",
       "                                             geodist smithsonian_href  \\\n",
       "0  [Caribbean, Bahamas, Florida, Bermuda, Gulf of...         spe/3894   \n",
       "1  [Caribbean, Bahamas, Florida, Bermuda, Gulf of...         spe/3894   \n",
       "2  [Caribbean, Bahamas, Florida, Bermuda, Gulf of...         spe/3894   \n",
       "3  [Caribbean, Bahamas, Florida, Bermuda, Gulf of...         spe/3894   \n",
       "4  [Caribbean, Bahamas, Florida, Bermuda, Gulf of...         spe/3894   \n",
       "\n",
       "                    stj_href  \\\n",
       "0  slippery-dick-wrasse.html   \n",
       "1  slippery-dick-wrasse.html   \n",
       "2  slippery-dick-wrasse.html   \n",
       "3  slippery-dick-wrasse.html   \n",
       "4  slippery-dick-wrasse.html   \n",
       "\n",
       "                                         image_paths  \n",
       "0  E:/LargeDatasets/SpeciesID-Images/Labridae/Hal...  \n",
       "1  E:/LargeDatasets/SpeciesID-Images/Labridae/Hal...  \n",
       "2  E:/LargeDatasets/SpeciesID-Images/Labridae/Hal...  \n",
       "3  E:/LargeDatasets/SpeciesID-Images/Labridae/Hal...  \n",
       "4  E:/LargeDatasets/SpeciesID-Images/Labridae/Hal...  "
      ]
     },
     "execution_count": 10,
     "metadata": {},
     "output_type": "execute_result"
    }
   ],
   "source": [
    "expanded_fish_DF.head()"
   ]
  },
  {
   "cell_type": "code",
   "execution_count": 11,
   "metadata": {},
   "outputs": [
    {
     "name": "stdout",
     "output_type": "stream",
     "text": [
      "<class 'pandas.core.frame.DataFrame'>\n",
      "RangeIndex: 7006 entries, 0 to 7005\n",
      "Data columns (total 10 columns):\n",
      " #   Column             Non-Null Count  Dtype \n",
      "---  ------             --------------  ----- \n",
      " 0   scientific_name    7006 non-null   object\n",
      " 1   scientific_family  7006 non-null   object\n",
      " 2   common_name        7006 non-null   object\n",
      " 3   common_family      7006 non-null   object\n",
      " 4   size_range_cm      7006 non-null   object\n",
      " 5   depth_range_m      7006 non-null   object\n",
      " 6   geodist            7006 non-null   object\n",
      " 7   smithsonian_href   7006 non-null   object\n",
      " 8   stj_href           5121 non-null   object\n",
      " 9   image_paths        7006 non-null   object\n",
      "dtypes: object(10)\n",
      "memory usage: 547.5+ KB\n"
     ]
    }
   ],
   "source": [
    "expanded_fish_DF.info()"
   ]
  },
  {
   "cell_type": "code",
   "execution_count": 12,
   "metadata": {},
   "outputs": [
    {
     "data": {
      "text/plain": [
       "7006"
      ]
     },
     "execution_count": 12,
     "metadata": {},
     "output_type": "execute_result"
    }
   ],
   "source": [
    "expanded_fish_DF.image_paths.nunique()"
   ]
  },
  {
   "attachments": {},
   "cell_type": "markdown",
   "metadata": {},
   "source": [
    "Hmm.. some duplicate images (There were, see below, but I fixed it already)!"
   ]
  },
  {
   "cell_type": "code",
   "execution_count": 13,
   "metadata": {},
   "outputs": [
    {
     "data": {
      "text/html": [
       "<div>\n",
       "<style scoped>\n",
       "    .dataframe tbody tr th:only-of-type {\n",
       "        vertical-align: middle;\n",
       "    }\n",
       "\n",
       "    .dataframe tbody tr th {\n",
       "        vertical-align: top;\n",
       "    }\n",
       "\n",
       "    .dataframe thead th {\n",
       "        text-align: right;\n",
       "    }\n",
       "</style>\n",
       "<table border=\"1\" class=\"dataframe\">\n",
       "  <thead>\n",
       "    <tr style=\"text-align: right;\">\n",
       "      <th></th>\n",
       "      <th>scientific_name</th>\n",
       "      <th>scientific_family</th>\n",
       "      <th>common_name</th>\n",
       "      <th>common_family</th>\n",
       "      <th>size_range_cm</th>\n",
       "      <th>depth_range_m</th>\n",
       "      <th>geodist</th>\n",
       "      <th>smithsonian_href</th>\n",
       "      <th>stj_href</th>\n",
       "      <th>image_paths</th>\n",
       "    </tr>\n",
       "  </thead>\n",
       "  <tbody>\n",
       "  </tbody>\n",
       "</table>\n",
       "</div>"
      ],
      "text/plain": [
       "Empty DataFrame\n",
       "Columns: [scientific_name, scientific_family, common_name, common_family, size_range_cm, depth_range_m, geodist, smithsonian_href, stj_href, image_paths]\n",
       "Index: []"
      ]
     },
     "execution_count": 13,
     "metadata": {},
     "output_type": "execute_result"
    }
   ],
   "source": [
    "expanded_fish_DF.loc[expanded_fish_DF.image_paths.duplicated(keep=False)]"
   ]
  },
  {
   "attachments": {},
   "cell_type": "markdown",
   "metadata": {},
   "source": [
    "Okay, looks like I missed deleting some pixel.gifs from STJ and also there were some errors with how things were saved from STJ when there was a second species. I will manually look at the duplicates and decide which pictures go where as well as delete the undesirables."
   ]
  },
  {
   "cell_type": "code",
   "execution_count": 14,
   "metadata": {},
   "outputs": [],
   "source": [
    "fish_DF['image_paths'] = pd.Series(dtype=object)\n",
    "fish_DF['image_paths'] = fish_DF.apply(lambda x: get_species_images_paths(x.scientific_name, x.scientific_family), axis = 1)\n",
    "expanded_fish_DF = fish_DF.explode('image_paths', ignore_index=True)"
   ]
  },
  {
   "cell_type": "code",
   "execution_count": 15,
   "metadata": {},
   "outputs": [
    {
     "data": {
      "text/html": [
       "<div>\n",
       "<style scoped>\n",
       "    .dataframe tbody tr th:only-of-type {\n",
       "        vertical-align: middle;\n",
       "    }\n",
       "\n",
       "    .dataframe tbody tr th {\n",
       "        vertical-align: top;\n",
       "    }\n",
       "\n",
       "    .dataframe thead th {\n",
       "        text-align: right;\n",
       "    }\n",
       "</style>\n",
       "<table border=\"1\" class=\"dataframe\">\n",
       "  <thead>\n",
       "    <tr style=\"text-align: right;\">\n",
       "      <th></th>\n",
       "      <th>scientific_name</th>\n",
       "      <th>scientific_family</th>\n",
       "      <th>common_name</th>\n",
       "      <th>common_family</th>\n",
       "      <th>size_range_cm</th>\n",
       "      <th>depth_range_m</th>\n",
       "      <th>geodist</th>\n",
       "      <th>smithsonian_href</th>\n",
       "      <th>stj_href</th>\n",
       "      <th>image_paths</th>\n",
       "    </tr>\n",
       "  </thead>\n",
       "  <tbody>\n",
       "    <tr>\n",
       "      <th>0</th>\n",
       "      <td>Halichoeres bivittatus</td>\n",
       "      <td>Labridae</td>\n",
       "      <td>Slippery Dick</td>\n",
       "      <td>Wrasses</td>\n",
       "      <td>(12.0, 20.0)</td>\n",
       "      <td>(2.0, 12.0)</td>\n",
       "      <td>[Caribbean, Bahamas, Florida, Bermuda, Gulf of...</td>\n",
       "      <td>spe/3894</td>\n",
       "      <td>slippery-dick-wrasse.html</td>\n",
       "      <td>E:/LargeDatasets/SpeciesID-Images/Labridae/Hal...</td>\n",
       "    </tr>\n",
       "    <tr>\n",
       "      <th>1</th>\n",
       "      <td>Halichoeres bivittatus</td>\n",
       "      <td>Labridae</td>\n",
       "      <td>Slippery Dick</td>\n",
       "      <td>Wrasses</td>\n",
       "      <td>(12.0, 20.0)</td>\n",
       "      <td>(2.0, 12.0)</td>\n",
       "      <td>[Caribbean, Bahamas, Florida, Bermuda, Gulf of...</td>\n",
       "      <td>spe/3894</td>\n",
       "      <td>slippery-dick-wrasse.html</td>\n",
       "      <td>E:/LargeDatasets/SpeciesID-Images/Labridae/Hal...</td>\n",
       "    </tr>\n",
       "    <tr>\n",
       "      <th>2</th>\n",
       "      <td>Halichoeres bivittatus</td>\n",
       "      <td>Labridae</td>\n",
       "      <td>Slippery Dick</td>\n",
       "      <td>Wrasses</td>\n",
       "      <td>(12.0, 20.0)</td>\n",
       "      <td>(2.0, 12.0)</td>\n",
       "      <td>[Caribbean, Bahamas, Florida, Bermuda, Gulf of...</td>\n",
       "      <td>spe/3894</td>\n",
       "      <td>slippery-dick-wrasse.html</td>\n",
       "      <td>E:/LargeDatasets/SpeciesID-Images/Labridae/Hal...</td>\n",
       "    </tr>\n",
       "    <tr>\n",
       "      <th>3</th>\n",
       "      <td>Halichoeres bivittatus</td>\n",
       "      <td>Labridae</td>\n",
       "      <td>Slippery Dick</td>\n",
       "      <td>Wrasses</td>\n",
       "      <td>(12.0, 20.0)</td>\n",
       "      <td>(2.0, 12.0)</td>\n",
       "      <td>[Caribbean, Bahamas, Florida, Bermuda, Gulf of...</td>\n",
       "      <td>spe/3894</td>\n",
       "      <td>slippery-dick-wrasse.html</td>\n",
       "      <td>E:/LargeDatasets/SpeciesID-Images/Labridae/Hal...</td>\n",
       "    </tr>\n",
       "    <tr>\n",
       "      <th>4</th>\n",
       "      <td>Halichoeres bivittatus</td>\n",
       "      <td>Labridae</td>\n",
       "      <td>Slippery Dick</td>\n",
       "      <td>Wrasses</td>\n",
       "      <td>(12.0, 20.0)</td>\n",
       "      <td>(2.0, 12.0)</td>\n",
       "      <td>[Caribbean, Bahamas, Florida, Bermuda, Gulf of...</td>\n",
       "      <td>spe/3894</td>\n",
       "      <td>slippery-dick-wrasse.html</td>\n",
       "      <td>E:/LargeDatasets/SpeciesID-Images/Labridae/Hal...</td>\n",
       "    </tr>\n",
       "  </tbody>\n",
       "</table>\n",
       "</div>"
      ],
      "text/plain": [
       "          scientific_name scientific_family    common_name common_family  \\\n",
       "0  Halichoeres bivittatus          Labridae  Slippery Dick       Wrasses   \n",
       "1  Halichoeres bivittatus          Labridae  Slippery Dick       Wrasses   \n",
       "2  Halichoeres bivittatus          Labridae  Slippery Dick       Wrasses   \n",
       "3  Halichoeres bivittatus          Labridae  Slippery Dick       Wrasses   \n",
       "4  Halichoeres bivittatus          Labridae  Slippery Dick       Wrasses   \n",
       "\n",
       "  size_range_cm depth_range_m  \\\n",
       "0  (12.0, 20.0)   (2.0, 12.0)   \n",
       "1  (12.0, 20.0)   (2.0, 12.0)   \n",
       "2  (12.0, 20.0)   (2.0, 12.0)   \n",
       "3  (12.0, 20.0)   (2.0, 12.0)   \n",
       "4  (12.0, 20.0)   (2.0, 12.0)   \n",
       "\n",
       "                                             geodist smithsonian_href  \\\n",
       "0  [Caribbean, Bahamas, Florida, Bermuda, Gulf of...         spe/3894   \n",
       "1  [Caribbean, Bahamas, Florida, Bermuda, Gulf of...         spe/3894   \n",
       "2  [Caribbean, Bahamas, Florida, Bermuda, Gulf of...         spe/3894   \n",
       "3  [Caribbean, Bahamas, Florida, Bermuda, Gulf of...         spe/3894   \n",
       "4  [Caribbean, Bahamas, Florida, Bermuda, Gulf of...         spe/3894   \n",
       "\n",
       "                    stj_href  \\\n",
       "0  slippery-dick-wrasse.html   \n",
       "1  slippery-dick-wrasse.html   \n",
       "2  slippery-dick-wrasse.html   \n",
       "3  slippery-dick-wrasse.html   \n",
       "4  slippery-dick-wrasse.html   \n",
       "\n",
       "                                         image_paths  \n",
       "0  E:/LargeDatasets/SpeciesID-Images/Labridae/Hal...  \n",
       "1  E:/LargeDatasets/SpeciesID-Images/Labridae/Hal...  \n",
       "2  E:/LargeDatasets/SpeciesID-Images/Labridae/Hal...  \n",
       "3  E:/LargeDatasets/SpeciesID-Images/Labridae/Hal...  \n",
       "4  E:/LargeDatasets/SpeciesID-Images/Labridae/Hal...  "
      ]
     },
     "execution_count": 15,
     "metadata": {},
     "output_type": "execute_result"
    }
   ],
   "source": [
    "expanded_fish_DF.head()"
   ]
  },
  {
   "cell_type": "code",
   "execution_count": 16,
   "metadata": {},
   "outputs": [
    {
     "name": "stdout",
     "output_type": "stream",
     "text": [
      "<class 'pandas.core.frame.DataFrame'>\n",
      "RangeIndex: 7006 entries, 0 to 7005\n",
      "Data columns (total 10 columns):\n",
      " #   Column             Non-Null Count  Dtype \n",
      "---  ------             --------------  ----- \n",
      " 0   scientific_name    7006 non-null   object\n",
      " 1   scientific_family  7006 non-null   object\n",
      " 2   common_name        7006 non-null   object\n",
      " 3   common_family      7006 non-null   object\n",
      " 4   size_range_cm      7006 non-null   object\n",
      " 5   depth_range_m      7006 non-null   object\n",
      " 6   geodist            7006 non-null   object\n",
      " 7   smithsonian_href   7006 non-null   object\n",
      " 8   stj_href           5121 non-null   object\n",
      " 9   image_paths        7006 non-null   object\n",
      "dtypes: object(10)\n",
      "memory usage: 547.5+ KB\n"
     ]
    }
   ],
   "source": [
    "expanded_fish_DF.info()"
   ]
  },
  {
   "cell_type": "code",
   "execution_count": 17,
   "metadata": {},
   "outputs": [
    {
     "data": {
      "text/plain": [
       "7006"
      ]
     },
     "execution_count": 17,
     "metadata": {},
     "output_type": "execute_result"
    }
   ],
   "source": [
    "expanded_fish_DF.image_paths.nunique()"
   ]
  },
  {
   "attachments": {},
   "cell_type": "markdown",
   "metadata": {},
   "source": [
    "Perfect!"
   ]
  },
  {
   "cell_type": "code",
   "execution_count": 18,
   "metadata": {},
   "outputs": [
    {
     "data": {
      "text/plain": [
       "Serranidae         779\n",
       "Labridae           461\n",
       "Scaridae           427\n",
       "Pomacentridae      407\n",
       "Gobiidae           388\n",
       "                  ... \n",
       "Albulidae           15\n",
       "Cynoglossidae       11\n",
       "Paralichthyidae     11\n",
       "Fistulariidae       11\n",
       "Rhincodontidae       9\n",
       "Name: scientific_family, Length: 62, dtype: int64"
      ]
     },
     "execution_count": 18,
     "metadata": {},
     "output_type": "execute_result"
    }
   ],
   "source": [
    "expanded_fish_DF.scientific_family.value_counts()"
   ]
  },
  {
   "cell_type": "code",
   "execution_count": 19,
   "metadata": {},
   "outputs": [
    {
     "data": {
      "text/plain": [
       "Wrasses           461\n",
       "Parrotfishes      427\n",
       "Gobies            388\n",
       "Groupers          328\n",
       "Damselfishes      318\n",
       "                 ... \n",
       "Soldierfishes      14\n",
       "Tonguefishes       11\n",
       "Cornetfishes       11\n",
       "Sand Flounders     11\n",
       "Whale Sharks        9\n",
       "Name: common_family, Length: 68, dtype: int64"
      ]
     },
     "execution_count": 19,
     "metadata": {},
     "output_type": "execute_result"
    }
   ],
   "source": [
    "expanded_fish_DF.common_family.value_counts()"
   ]
  },
  {
   "attachments": {},
   "cell_type": "markdown",
   "metadata": {},
   "source": [
    "Hmm.. so the reason I was checking this is that I was thinking about training the first model on either common or scientific family. If there was drastically less of one I would probably choose that, but it looks like there is about the same amount. I suspect I can reduce the number of common families a bit as well, plus I imagine the common family name is better correlated with the fishes looks than the scientific family, making it so that we might get slightly better results with our classifier. Right now I am imagining having an ensemble, maybe a predictor of family and then a predictor of species, but at the very least we can develop our model and check for impacts on performance based on training methodology before going into species ID from scratch or by transfer learning."
   ]
  },
  {
   "cell_type": "code",
   "execution_count": 20,
   "metadata": {},
   "outputs": [
    {
     "data": {
      "text/plain": [
       "Index(['Wrasses', 'Parrotfishes', 'Gobies', 'Groupers', 'Damselfishes',\n",
       "       'Grunts', 'Hamlets', 'Angelfishes', 'Boxfishes', 'Snappers', 'Jacks',\n",
       "       'Moray Eels', 'Filefishes', 'Labrisomid Blennies', 'Seabasses',\n",
       "       'Cardinalfishes', 'Tube Blennies', 'Porcupinefishes', 'Scorpionfishes',\n",
       "       'Butterflyfishes', 'Pufferfishes', 'Drums', 'Surgeonfishes',\n",
       "       'Jawfishes', 'Lefteye Flounders', 'Chromis', 'Squirrelfishes',\n",
       "       'Triggerfishes', 'Porgies', 'Requiem Sharks', 'Nurse Sharks',\n",
       "       'Combtooth Blennies', 'Lionfishes', 'Chubs', 'Lizardfishes', 'Bigeyes',\n",
       "       'Soapfishes', 'Remoras', 'Snake Eels', 'Barracudas', 'Goatfishes',\n",
       "       'Trumpetfishes', 'Eagle Rays', 'Basslets', 'Toadfishes',\n",
       "       'Round Stingrays', 'Flying Gurnards', 'Sweepers', 'Seahorses',\n",
       "       'Tarpons', 'Needlefishes', 'Batfishes', 'Halfbeaks', 'Tilefishes',\n",
       "       'Triplefin Blennies', 'Spadefishes', 'Dragonets', 'Hawkfishes',\n",
       "       'Garden Eels', 'Mojarras', 'Bonnetmouths', 'Mackerels and Tunas',\n",
       "       'Bonefishes', 'Soldierfishes', 'Tonguefishes', 'Cornetfishes',\n",
       "       'Sand Flounders', 'Whale Sharks'],\n",
       "      dtype='object')"
      ]
     },
     "execution_count": 20,
     "metadata": {},
     "output_type": "execute_result"
    }
   ],
   "source": [
    "expanded_fish_DF.common_family.value_counts().index"
   ]
  },
  {
   "attachments": {},
   "cell_type": "markdown",
   "metadata": {},
   "source": [
    "For example, I think I might try to reduce all the blennies into a singular common family just to start out with. We can also combine the two flounder categories, the three shark categories, and the three eel categories."
   ]
  },
  {
   "cell_type": "code",
   "execution_count": 21,
   "metadata": {},
   "outputs": [],
   "source": [
    "def family_translator(common_family):\n",
    "\n",
    "    family_dict = {\n",
    "        'Labrisomid Blennies' : 'Blennies',\n",
    "        'Tube Blennies' : 'Blennies',\n",
    "        'Combtooth Blennies' : 'Blennies',\n",
    "        'Triplefin Blennies' : 'Blennies',\n",
    "        'Lefteye Flounders' : 'Flounders',\n",
    "        'Sand Flounders' : 'Flounders',\n",
    "        'Whale Sharks' : 'Sharks',\n",
    "        'Requiem Sharks' : 'Sharks',\n",
    "        'Nurse Sharks' : 'Sharks',\n",
    "        'Moray Eels' : 'Eels',\n",
    "        'Garden Eels' : 'Eels',\n",
    "        'Snake Eels' : 'Eels',\n",
    "        'Eagle Rays' : 'Rays',\n",
    "        'Round Stingrays' : 'Rays',\n",
    "    }\n",
    "\n",
    "    if common_family in family_dict.keys():\n",
    "        common_family = family_dict.get(common_family)\n",
    "\n",
    "    return common_family"
   ]
  },
  {
   "cell_type": "code",
   "execution_count": 22,
   "metadata": {},
   "outputs": [],
   "source": [
    "expanded_fish_DF.common_family = expanded_fish_DF.common_family.apply(lambda x: family_translator(x))"
   ]
  },
  {
   "cell_type": "code",
   "execution_count": 23,
   "metadata": {},
   "outputs": [
    {
     "data": {
      "text/plain": [
       "Index(['Wrasses', 'Parrotfishes', 'Blennies', 'Gobies', 'Groupers',\n",
       "       'Damselfishes', 'Grunts', 'Eels', 'Hamlets', 'Angelfishes', 'Boxfishes',\n",
       "       'Snappers', 'Jacks', 'Filefishes', 'Sharks', 'Cardinalfishes',\n",
       "       'Seabasses', 'Porcupinefishes', 'Scorpionfishes', 'Butterflyfishes',\n",
       "       'Pufferfishes', 'Drums', 'Flounders', 'Surgeonfishes', 'Jawfishes',\n",
       "       'Chromis', 'Squirrelfishes', 'Triggerfishes', 'Porgies', 'Rays',\n",
       "       'Lionfishes', 'Chubs', 'Lizardfishes', 'Bigeyes', 'Soapfishes',\n",
       "       'Remoras', 'Barracudas', 'Trumpetfishes', 'Goatfishes', 'Basslets',\n",
       "       'Toadfishes', 'Flying Gurnards', 'Sweepers', 'Seahorses', 'Tarpons',\n",
       "       'Batfishes', 'Needlefishes', 'Halfbeaks', 'Tilefishes', 'Spadefishes',\n",
       "       'Dragonets', 'Hawkfishes', 'Bonnetmouths', 'Mackerels and Tunas',\n",
       "       'Mojarras', 'Bonefishes', 'Soldierfishes', 'Tonguefishes',\n",
       "       'Cornetfishes'],\n",
       "      dtype='object')"
      ]
     },
     "execution_count": 23,
     "metadata": {},
     "output_type": "execute_result"
    }
   ],
   "source": [
    "expanded_fish_DF.common_family.value_counts().index"
   ]
  },
  {
   "cell_type": "code",
   "execution_count": 24,
   "metadata": {},
   "outputs": [
    {
     "data": {
      "text/plain": [
       "Wrasses                461\n",
       "Parrotfishes           427\n",
       "Blennies               409\n",
       "Gobies                 388\n",
       "Groupers               328\n",
       "Damselfishes           318\n",
       "Grunts                 309\n",
       "Eels                   281\n",
       "Hamlets                252\n",
       "Angelfishes            245\n",
       "Boxfishes              231\n",
       "Snappers               219\n",
       "Jacks                  216\n",
       "Filefishes             208\n",
       "Sharks                 149\n",
       "Cardinalfishes         143\n",
       "Seabasses              143\n",
       "Porcupinefishes        140\n",
       "Scorpionfishes         129\n",
       "Butterflyfishes        129\n",
       "Pufferfishes           117\n",
       "Drums                  114\n",
       "Flounders              107\n",
       "Surgeonfishes          106\n",
       "Jawfishes              103\n",
       "Chromis                 89\n",
       "Squirrelfishes          86\n",
       "Triggerfishes           85\n",
       "Porgies                 76\n",
       "Rays                    75\n",
       "Lionfishes              61\n",
       "Chubs                   61\n",
       "Lizardfishes            58\n",
       "Bigeyes                 57\n",
       "Soapfishes              56\n",
       "Remoras                 54\n",
       "Barracudas              51\n",
       "Trumpetfishes           41\n",
       "Goatfishes              41\n",
       "Basslets                38\n",
       "Toadfishes              35\n",
       "Flying Gurnards         32\n",
       "Sweepers                30\n",
       "Seahorses               28\n",
       "Tarpons                 28\n",
       "Batfishes               24\n",
       "Needlefishes            24\n",
       "Halfbeaks               23\n",
       "Tilefishes              22\n",
       "Spadefishes             21\n",
       "Dragonets               20\n",
       "Hawkfishes              19\n",
       "Bonnetmouths            16\n",
       "Mackerels and Tunas     16\n",
       "Mojarras                16\n",
       "Bonefishes              15\n",
       "Soldierfishes           14\n",
       "Tonguefishes            11\n",
       "Cornetfishes            11\n",
       "Name: common_family, dtype: int64"
      ]
     },
     "execution_count": 24,
     "metadata": {},
     "output_type": "execute_result"
    }
   ],
   "source": [
    "expanded_fish_DF.common_family.value_counts()"
   ]
  },
  {
   "attachments": {},
   "cell_type": "markdown",
   "metadata": {},
   "source": [
    "I'm seeing that there are a lot of blenny within each category so in the future I may undo that grouping but for now we will leave it. So we are definitely seeing that there is pretty significant class imbalance so that will be something to consider in the future. It looks like our floor for the number of images within a category is roughly 10. We can always augment the train set in the future, but we won't be able to do so for our val and test sets, so it begs the question how will we balance having enough images of a species to train while also giving it a couple chances during validation and test. I think what I want to do is do a 80-10-10 split, but require that the minimum pictures in a val and test set be 2, so it will actually modulate to like a 60-20-20 split for the categories where we have less pictures."
   ]
  },
  {
   "cell_type": "code",
   "execution_count": 25,
   "metadata": {},
   "outputs": [],
   "source": [
    "train, test, split = np.array_split(expanded_fish_DF[:10].to_numpy(),3)"
   ]
  },
  {
   "cell_type": "code",
   "execution_count": 26,
   "metadata": {},
   "outputs": [
    {
     "data": {
      "text/plain": [
       "array(['Wrasses', 'Soapfishes', 'Cardinalfishes', 'Snappers',\n",
       "       'Lizardfishes', 'Angelfishes', 'Grunts', 'Parrotfishes',\n",
       "       'Tilefishes', 'Eels', 'Tarpons', 'Boxfishes', 'Gobies', 'Groupers',\n",
       "       'Basslets', 'Seabasses', 'Hamlets', 'Butterflyfishes',\n",
       "       'Pufferfishes', 'Surgeonfishes', 'Jacks', 'Sharks', 'Jawfishes',\n",
       "       'Porcupinefishes', 'Drums', 'Bigeyes', 'Damselfishes', 'Chromis',\n",
       "       'Hawkfishes', 'Seahorses', 'Mackerels and Tunas', 'Blennies',\n",
       "       'Remoras', 'Rays', 'Squirrelfishes', 'Scorpionfishes',\n",
       "       'Bonefishes', 'Porgies', 'Sweepers', 'Cornetfishes', 'Batfishes',\n",
       "       'Triggerfishes', 'Chubs', 'Toadfishes', 'Filefishes', 'Flounders',\n",
       "       'Goatfishes', 'Bonnetmouths', 'Lionfishes', 'Needlefishes',\n",
       "       'Spadefishes', 'Trumpetfishes', 'Flying Gurnards', 'Tonguefishes',\n",
       "       'Soldierfishes', 'Dragonets', 'Halfbeaks', 'Mojarras',\n",
       "       'Barracudas'], dtype=object)"
      ]
     },
     "execution_count": 26,
     "metadata": {},
     "output_type": "execute_result"
    }
   ],
   "source": [
    "expanded_fish_DF.common_family.unique()"
   ]
  },
  {
   "cell_type": "code",
   "execution_count": 27,
   "metadata": {},
   "outputs": [
    {
     "data": {
      "text/html": [
       "<div>\n",
       "<style scoped>\n",
       "    .dataframe tbody tr th:only-of-type {\n",
       "        vertical-align: middle;\n",
       "    }\n",
       "\n",
       "    .dataframe tbody tr th {\n",
       "        vertical-align: top;\n",
       "    }\n",
       "\n",
       "    .dataframe thead th {\n",
       "        text-align: right;\n",
       "    }\n",
       "</style>\n",
       "<table border=\"1\" class=\"dataframe\">\n",
       "  <thead>\n",
       "    <tr style=\"text-align: right;\">\n",
       "      <th></th>\n",
       "      <th>0</th>\n",
       "      <th>1</th>\n",
       "      <th>2</th>\n",
       "      <th>3</th>\n",
       "      <th>4</th>\n",
       "      <th>5</th>\n",
       "      <th>6</th>\n",
       "      <th>7</th>\n",
       "      <th>8</th>\n",
       "      <th>9</th>\n",
       "    </tr>\n",
       "  </thead>\n",
       "  <tbody>\n",
       "    <tr>\n",
       "      <th>0</th>\n",
       "      <td>Halichoeres bivittatus</td>\n",
       "      <td>Labridae</td>\n",
       "      <td>Slippery Dick</td>\n",
       "      <td>Wrasses</td>\n",
       "      <td>(12.0, 20.0)</td>\n",
       "      <td>(2.0, 12.0)</td>\n",
       "      <td>[Caribbean, Bahamas, Florida, Bermuda, Gulf of...</td>\n",
       "      <td>spe/3894</td>\n",
       "      <td>slippery-dick-wrasse.html</td>\n",
       "      <td>E:/LargeDatasets/SpeciesID-Images/Labridae/Hal...</td>\n",
       "    </tr>\n",
       "    <tr>\n",
       "      <th>1</th>\n",
       "      <td>Halichoeres bivittatus</td>\n",
       "      <td>Labridae</td>\n",
       "      <td>Slippery Dick</td>\n",
       "      <td>Wrasses</td>\n",
       "      <td>(12.0, 20.0)</td>\n",
       "      <td>(2.0, 12.0)</td>\n",
       "      <td>[Caribbean, Bahamas, Florida, Bermuda, Gulf of...</td>\n",
       "      <td>spe/3894</td>\n",
       "      <td>slippery-dick-wrasse.html</td>\n",
       "      <td>E:/LargeDatasets/SpeciesID-Images/Labridae/Hal...</td>\n",
       "    </tr>\n",
       "    <tr>\n",
       "      <th>2</th>\n",
       "      <td>Halichoeres bivittatus</td>\n",
       "      <td>Labridae</td>\n",
       "      <td>Slippery Dick</td>\n",
       "      <td>Wrasses</td>\n",
       "      <td>(12.0, 20.0)</td>\n",
       "      <td>(2.0, 12.0)</td>\n",
       "      <td>[Caribbean, Bahamas, Florida, Bermuda, Gulf of...</td>\n",
       "      <td>spe/3894</td>\n",
       "      <td>slippery-dick-wrasse.html</td>\n",
       "      <td>E:/LargeDatasets/SpeciesID-Images/Labridae/Hal...</td>\n",
       "    </tr>\n",
       "    <tr>\n",
       "      <th>3</th>\n",
       "      <td>Halichoeres bivittatus</td>\n",
       "      <td>Labridae</td>\n",
       "      <td>Slippery Dick</td>\n",
       "      <td>Wrasses</td>\n",
       "      <td>(12.0, 20.0)</td>\n",
       "      <td>(2.0, 12.0)</td>\n",
       "      <td>[Caribbean, Bahamas, Florida, Bermuda, Gulf of...</td>\n",
       "      <td>spe/3894</td>\n",
       "      <td>slippery-dick-wrasse.html</td>\n",
       "      <td>E:/LargeDatasets/SpeciesID-Images/Labridae/Hal...</td>\n",
       "    </tr>\n",
       "  </tbody>\n",
       "</table>\n",
       "</div>"
      ],
      "text/plain": [
       "                        0         1              2        3             4  \\\n",
       "0  Halichoeres bivittatus  Labridae  Slippery Dick  Wrasses  (12.0, 20.0)   \n",
       "1  Halichoeres bivittatus  Labridae  Slippery Dick  Wrasses  (12.0, 20.0)   \n",
       "2  Halichoeres bivittatus  Labridae  Slippery Dick  Wrasses  (12.0, 20.0)   \n",
       "3  Halichoeres bivittatus  Labridae  Slippery Dick  Wrasses  (12.0, 20.0)   \n",
       "\n",
       "             5                                                  6         7  \\\n",
       "0  (2.0, 12.0)  [Caribbean, Bahamas, Florida, Bermuda, Gulf of...  spe/3894   \n",
       "1  (2.0, 12.0)  [Caribbean, Bahamas, Florida, Bermuda, Gulf of...  spe/3894   \n",
       "2  (2.0, 12.0)  [Caribbean, Bahamas, Florida, Bermuda, Gulf of...  spe/3894   \n",
       "3  (2.0, 12.0)  [Caribbean, Bahamas, Florida, Bermuda, Gulf of...  spe/3894   \n",
       "\n",
       "                           8  \\\n",
       "0  slippery-dick-wrasse.html   \n",
       "1  slippery-dick-wrasse.html   \n",
       "2  slippery-dick-wrasse.html   \n",
       "3  slippery-dick-wrasse.html   \n",
       "\n",
       "                                                   9  \n",
       "0  E:/LargeDatasets/SpeciesID-Images/Labridae/Hal...  \n",
       "1  E:/LargeDatasets/SpeciesID-Images/Labridae/Hal...  \n",
       "2  E:/LargeDatasets/SpeciesID-Images/Labridae/Hal...  \n",
       "3  E:/LargeDatasets/SpeciesID-Images/Labridae/Hal...  "
      ]
     },
     "execution_count": 27,
     "metadata": {},
     "output_type": "execute_result"
    }
   ],
   "source": [
    "pd.DataFrame(train)"
   ]
  },
  {
   "cell_type": "code",
   "execution_count": 28,
   "metadata": {},
   "outputs": [],
   "source": [
    "def split_stratified_into_train_val_test(df_in, stratify_col):\n",
    "    \n",
    "    categories = df_in[stratify_col].unique()\n",
    "    columns = df_in.columns\n",
    "    train_df = pd.DataFrame(columns=columns)\n",
    "    val_df = pd.DataFrame(columns=columns)\n",
    "    test_df = pd.DataFrame(columns=columns)\n",
    "\n",
    "    for cat in categories:\n",
    "        cat_df = df_in.loc[df_in[stratify_col] == cat]\n",
    "        if len(cat_df) <= 15:\n",
    "            train_frac, val_frac, test_frac = 0.7, 0.15, 0.15\n",
    "        else:\n",
    "            train_frac, val_frac, test_frac = 0.8, 0.1, 0.1\n",
    "        \n",
    "        train_arr, val_arr, test_arr = np.array_split(cat_df.to_numpy(),\n",
    "                                                      [int((1-(val_frac+test_frac))*len(cat_df)),\n",
    "                                                                         int((1-test_frac)*len(cat_df))])\n",
    "        \n",
    "        train_df = pd.concat([train_df,pd.DataFrame(train_arr,columns = columns)])\n",
    "        val_df = pd.concat([val_df,pd.DataFrame(val_arr,columns = columns)])\n",
    "        test_df = pd.concat([test_df,pd.DataFrame(test_arr,columns = columns)])\n",
    "        \n",
    "\n",
    "    return train_df, val_df, test_df"
   ]
  },
  {
   "cell_type": "code",
   "execution_count": 29,
   "metadata": {},
   "outputs": [],
   "source": [
    "train_expanded, val_expanded, test_expanded = split_stratified_into_train_val_test(expanded_fish_DF,'common_family')"
   ]
  },
  {
   "cell_type": "code",
   "execution_count": 30,
   "metadata": {},
   "outputs": [
    {
     "data": {
      "text/html": [
       "<div>\n",
       "<style scoped>\n",
       "    .dataframe tbody tr th:only-of-type {\n",
       "        vertical-align: middle;\n",
       "    }\n",
       "\n",
       "    .dataframe tbody tr th {\n",
       "        vertical-align: top;\n",
       "    }\n",
       "\n",
       "    .dataframe thead th {\n",
       "        text-align: right;\n",
       "    }\n",
       "</style>\n",
       "<table border=\"1\" class=\"dataframe\">\n",
       "  <thead>\n",
       "    <tr style=\"text-align: right;\">\n",
       "      <th></th>\n",
       "      <th>scientific_name</th>\n",
       "      <th>scientific_family</th>\n",
       "      <th>common_name</th>\n",
       "      <th>common_family</th>\n",
       "      <th>size_range_cm</th>\n",
       "      <th>depth_range_m</th>\n",
       "      <th>geodist</th>\n",
       "      <th>smithsonian_href</th>\n",
       "      <th>stj_href</th>\n",
       "      <th>image_paths</th>\n",
       "    </tr>\n",
       "  </thead>\n",
       "  <tbody>\n",
       "    <tr>\n",
       "      <th>0</th>\n",
       "      <td>Halichoeres bivittatus</td>\n",
       "      <td>Labridae</td>\n",
       "      <td>Slippery Dick</td>\n",
       "      <td>Wrasses</td>\n",
       "      <td>(12.0, 20.0)</td>\n",
       "      <td>(2.0, 12.0)</td>\n",
       "      <td>[Caribbean, Bahamas, Florida, Bermuda, Gulf of...</td>\n",
       "      <td>spe/3894</td>\n",
       "      <td>slippery-dick-wrasse.html</td>\n",
       "      <td>E:/LargeDatasets/SpeciesID-Images/Labridae/Hal...</td>\n",
       "    </tr>\n",
       "    <tr>\n",
       "      <th>1</th>\n",
       "      <td>Halichoeres bivittatus</td>\n",
       "      <td>Labridae</td>\n",
       "      <td>Slippery Dick</td>\n",
       "      <td>Wrasses</td>\n",
       "      <td>(12.0, 20.0)</td>\n",
       "      <td>(2.0, 12.0)</td>\n",
       "      <td>[Caribbean, Bahamas, Florida, Bermuda, Gulf of...</td>\n",
       "      <td>spe/3894</td>\n",
       "      <td>slippery-dick-wrasse.html</td>\n",
       "      <td>E:/LargeDatasets/SpeciesID-Images/Labridae/Hal...</td>\n",
       "    </tr>\n",
       "    <tr>\n",
       "      <th>2</th>\n",
       "      <td>Halichoeres bivittatus</td>\n",
       "      <td>Labridae</td>\n",
       "      <td>Slippery Dick</td>\n",
       "      <td>Wrasses</td>\n",
       "      <td>(12.0, 20.0)</td>\n",
       "      <td>(2.0, 12.0)</td>\n",
       "      <td>[Caribbean, Bahamas, Florida, Bermuda, Gulf of...</td>\n",
       "      <td>spe/3894</td>\n",
       "      <td>slippery-dick-wrasse.html</td>\n",
       "      <td>E:/LargeDatasets/SpeciesID-Images/Labridae/Hal...</td>\n",
       "    </tr>\n",
       "    <tr>\n",
       "      <th>3</th>\n",
       "      <td>Halichoeres bivittatus</td>\n",
       "      <td>Labridae</td>\n",
       "      <td>Slippery Dick</td>\n",
       "      <td>Wrasses</td>\n",
       "      <td>(12.0, 20.0)</td>\n",
       "      <td>(2.0, 12.0)</td>\n",
       "      <td>[Caribbean, Bahamas, Florida, Bermuda, Gulf of...</td>\n",
       "      <td>spe/3894</td>\n",
       "      <td>slippery-dick-wrasse.html</td>\n",
       "      <td>E:/LargeDatasets/SpeciesID-Images/Labridae/Hal...</td>\n",
       "    </tr>\n",
       "    <tr>\n",
       "      <th>4</th>\n",
       "      <td>Halichoeres bivittatus</td>\n",
       "      <td>Labridae</td>\n",
       "      <td>Slippery Dick</td>\n",
       "      <td>Wrasses</td>\n",
       "      <td>(12.0, 20.0)</td>\n",
       "      <td>(2.0, 12.0)</td>\n",
       "      <td>[Caribbean, Bahamas, Florida, Bermuda, Gulf of...</td>\n",
       "      <td>spe/3894</td>\n",
       "      <td>slippery-dick-wrasse.html</td>\n",
       "      <td>E:/LargeDatasets/SpeciesID-Images/Labridae/Hal...</td>\n",
       "    </tr>\n",
       "  </tbody>\n",
       "</table>\n",
       "</div>"
      ],
      "text/plain": [
       "          scientific_name scientific_family    common_name common_family  \\\n",
       "0  Halichoeres bivittatus          Labridae  Slippery Dick       Wrasses   \n",
       "1  Halichoeres bivittatus          Labridae  Slippery Dick       Wrasses   \n",
       "2  Halichoeres bivittatus          Labridae  Slippery Dick       Wrasses   \n",
       "3  Halichoeres bivittatus          Labridae  Slippery Dick       Wrasses   \n",
       "4  Halichoeres bivittatus          Labridae  Slippery Dick       Wrasses   \n",
       "\n",
       "  size_range_cm depth_range_m  \\\n",
       "0  (12.0, 20.0)   (2.0, 12.0)   \n",
       "1  (12.0, 20.0)   (2.0, 12.0)   \n",
       "2  (12.0, 20.0)   (2.0, 12.0)   \n",
       "3  (12.0, 20.0)   (2.0, 12.0)   \n",
       "4  (12.0, 20.0)   (2.0, 12.0)   \n",
       "\n",
       "                                             geodist smithsonian_href  \\\n",
       "0  [Caribbean, Bahamas, Florida, Bermuda, Gulf of...         spe/3894   \n",
       "1  [Caribbean, Bahamas, Florida, Bermuda, Gulf of...         spe/3894   \n",
       "2  [Caribbean, Bahamas, Florida, Bermuda, Gulf of...         spe/3894   \n",
       "3  [Caribbean, Bahamas, Florida, Bermuda, Gulf of...         spe/3894   \n",
       "4  [Caribbean, Bahamas, Florida, Bermuda, Gulf of...         spe/3894   \n",
       "\n",
       "                    stj_href  \\\n",
       "0  slippery-dick-wrasse.html   \n",
       "1  slippery-dick-wrasse.html   \n",
       "2  slippery-dick-wrasse.html   \n",
       "3  slippery-dick-wrasse.html   \n",
       "4  slippery-dick-wrasse.html   \n",
       "\n",
       "                                         image_paths  \n",
       "0  E:/LargeDatasets/SpeciesID-Images/Labridae/Hal...  \n",
       "1  E:/LargeDatasets/SpeciesID-Images/Labridae/Hal...  \n",
       "2  E:/LargeDatasets/SpeciesID-Images/Labridae/Hal...  \n",
       "3  E:/LargeDatasets/SpeciesID-Images/Labridae/Hal...  \n",
       "4  E:/LargeDatasets/SpeciesID-Images/Labridae/Hal...  "
      ]
     },
     "execution_count": 30,
     "metadata": {},
     "output_type": "execute_result"
    }
   ],
   "source": [
    "train_expanded.head()"
   ]
  },
  {
   "cell_type": "code",
   "execution_count": 31,
   "metadata": {},
   "outputs": [
    {
     "name": "stdout",
     "output_type": "stream",
     "text": [
      "<class 'pandas.core.frame.DataFrame'>\n",
      "Int64Index: 5572 entries, 0 to 39\n",
      "Data columns (total 10 columns):\n",
      " #   Column             Non-Null Count  Dtype \n",
      "---  ------             --------------  ----- \n",
      " 0   scientific_name    5572 non-null   object\n",
      " 1   scientific_family  5572 non-null   object\n",
      " 2   common_name        5572 non-null   object\n",
      " 3   common_family      5572 non-null   object\n",
      " 4   size_range_cm      5572 non-null   object\n",
      " 5   depth_range_m      5572 non-null   object\n",
      " 6   geodist            5572 non-null   object\n",
      " 7   smithsonian_href   5572 non-null   object\n",
      " 8   stj_href           4183 non-null   object\n",
      " 9   image_paths        5572 non-null   object\n",
      "dtypes: object(10)\n",
      "memory usage: 478.8+ KB\n"
     ]
    }
   ],
   "source": [
    "train_expanded.info()"
   ]
  },
  {
   "cell_type": "code",
   "execution_count": 32,
   "metadata": {},
   "outputs": [
    {
     "name": "stdout",
     "output_type": "stream",
     "text": [
      "<class 'pandas.core.frame.DataFrame'>\n",
      "Int64Index: 704 entries, 0 to 4\n",
      "Data columns (total 10 columns):\n",
      " #   Column             Non-Null Count  Dtype \n",
      "---  ------             --------------  ----- \n",
      " 0   scientific_name    704 non-null    object\n",
      " 1   scientific_family  704 non-null    object\n",
      " 2   common_name        704 non-null    object\n",
      " 3   common_family      704 non-null    object\n",
      " 4   size_range_cm      704 non-null    object\n",
      " 5   depth_range_m      704 non-null    object\n",
      " 6   geodist            704 non-null    object\n",
      " 7   smithsonian_href   704 non-null    object\n",
      " 8   stj_href           486 non-null    object\n",
      " 9   image_paths        704 non-null    object\n",
      "dtypes: object(10)\n",
      "memory usage: 60.5+ KB\n"
     ]
    }
   ],
   "source": [
    "val_expanded.info()"
   ]
  },
  {
   "cell_type": "code",
   "execution_count": 33,
   "metadata": {},
   "outputs": [
    {
     "name": "stdout",
     "output_type": "stream",
     "text": [
      "<class 'pandas.core.frame.DataFrame'>\n",
      "Int64Index: 730 entries, 0 to 5\n",
      "Data columns (total 10 columns):\n",
      " #   Column             Non-Null Count  Dtype \n",
      "---  ------             --------------  ----- \n",
      " 0   scientific_name    730 non-null    object\n",
      " 1   scientific_family  730 non-null    object\n",
      " 2   common_name        730 non-null    object\n",
      " 3   common_family      730 non-null    object\n",
      " 4   size_range_cm      730 non-null    object\n",
      " 5   depth_range_m      730 non-null    object\n",
      " 6   geodist            730 non-null    object\n",
      " 7   smithsonian_href   730 non-null    object\n",
      " 8   stj_href           452 non-null    object\n",
      " 9   image_paths        730 non-null    object\n",
      "dtypes: object(10)\n",
      "memory usage: 62.7+ KB\n"
     ]
    }
   ],
   "source": [
    "test_expanded.info()"
   ]
  },
  {
   "cell_type": "code",
   "execution_count": 34,
   "metadata": {},
   "outputs": [
    {
     "data": {
      "text/plain": [
       "Wrasses                368\n",
       "Parrotfishes           341\n",
       "Blennies               327\n",
       "Gobies                 310\n",
       "Groupers               262\n",
       "Damselfishes           254\n",
       "Grunts                 247\n",
       "Eels                   224\n",
       "Hamlets                201\n",
       "Angelfishes            196\n",
       "Boxfishes              184\n",
       "Snappers               175\n",
       "Jacks                  172\n",
       "Filefishes             166\n",
       "Sharks                 119\n",
       "Cardinalfishes         114\n",
       "Seabasses              114\n",
       "Porcupinefishes        112\n",
       "Scorpionfishes         103\n",
       "Butterflyfishes        103\n",
       "Pufferfishes            93\n",
       "Drums                   91\n",
       "Flounders               85\n",
       "Surgeonfishes           84\n",
       "Jawfishes               82\n",
       "Chromis                 71\n",
       "Triggerfishes           68\n",
       "Squirrelfishes          68\n",
       "Porgies                 60\n",
       "Rays                    60\n",
       "Lionfishes              48\n",
       "Chubs                   48\n",
       "Lizardfishes            46\n",
       "Bigeyes                 45\n",
       "Soapfishes              44\n",
       "Remoras                 43\n",
       "Barracudas              40\n",
       "Trumpetfishes           32\n",
       "Goatfishes              32\n",
       "Basslets                30\n",
       "Toadfishes              28\n",
       "Flying Gurnards         25\n",
       "Sweepers                24\n",
       "Seahorses               22\n",
       "Tarpons                 22\n",
       "Batfishes               19\n",
       "Needlefishes            19\n",
       "Halfbeaks               18\n",
       "Tilefishes              17\n",
       "Spadefishes             16\n",
       "Dragonets               16\n",
       "Hawkfishes              15\n",
       "Bonnetmouths            12\n",
       "Mackerels and Tunas     12\n",
       "Mojarras                12\n",
       "Bonefishes              10\n",
       "Soldierfishes            9\n",
       "Tonguefishes             7\n",
       "Cornetfishes             7\n",
       "Name: common_family, dtype: int64"
      ]
     },
     "execution_count": 34,
     "metadata": {},
     "output_type": "execute_result"
    }
   ],
   "source": [
    "train_expanded.common_family.value_counts()"
   ]
  },
  {
   "cell_type": "code",
   "execution_count": 35,
   "metadata": {},
   "outputs": [
    {
     "data": {
      "text/plain": [
       "Wrasses                46\n",
       "Parrotfishes           43\n",
       "Blennies               41\n",
       "Gobies                 39\n",
       "Groupers               33\n",
       "Damselfishes           32\n",
       "Grunts                 31\n",
       "Eels                   28\n",
       "Hamlets                25\n",
       "Angelfishes            24\n",
       "Boxfishes              23\n",
       "Jacks                  22\n",
       "Snappers               22\n",
       "Filefishes             21\n",
       "Sharks                 15\n",
       "Porcupinefishes        14\n",
       "Cardinalfishes         14\n",
       "Seabasses              14\n",
       "Butterflyfishes        13\n",
       "Scorpionfishes         13\n",
       "Pufferfishes           12\n",
       "Surgeonfishes          11\n",
       "Flounders              11\n",
       "Drums                  11\n",
       "Jawfishes              10\n",
       "Chromis                 9\n",
       "Squirrelfishes          9\n",
       "Triggerfishes           8\n",
       "Porgies                 8\n",
       "Rays                    7\n",
       "Bigeyes                 6\n",
       "Lionfishes              6\n",
       "Chubs                   6\n",
       "Soapfishes              6\n",
       "Lizardfishes            6\n",
       "Barracudas              5\n",
       "Remoras                 5\n",
       "Trumpetfishes           4\n",
       "Basslets                4\n",
       "Goatfishes              4\n",
       "Seahorses               3\n",
       "Sweepers                3\n",
       "Toadfishes              3\n",
       "Tarpons                 3\n",
       "Flying Gurnards         3\n",
       "Mojarras                2\n",
       "Halfbeaks               2\n",
       "Dragonets               2\n",
       "Soldierfishes           2\n",
       "Tonguefishes            2\n",
       "Bonefishes              2\n",
       "Spadefishes             2\n",
       "Needlefishes            2\n",
       "Tilefishes              2\n",
       "Hawkfishes              2\n",
       "Mackerels and Tunas     2\n",
       "Batfishes               2\n",
       "Cornetfishes            2\n",
       "Bonnetmouths            2\n",
       "Name: common_family, dtype: int64"
      ]
     },
     "execution_count": 35,
     "metadata": {},
     "output_type": "execute_result"
    }
   ],
   "source": [
    "val_expanded.common_family.value_counts()"
   ]
  },
  {
   "cell_type": "code",
   "execution_count": 36,
   "metadata": {},
   "outputs": [
    {
     "data": {
      "text/plain": [
       "Wrasses                47\n",
       "Parrotfishes           43\n",
       "Blennies               41\n",
       "Gobies                 39\n",
       "Groupers               33\n",
       "Damselfishes           32\n",
       "Grunts                 31\n",
       "Eels                   29\n",
       "Hamlets                26\n",
       "Angelfishes            25\n",
       "Boxfishes              24\n",
       "Jacks                  22\n",
       "Snappers               22\n",
       "Filefishes             21\n",
       "Sharks                 15\n",
       "Seabasses              15\n",
       "Cardinalfishes         15\n",
       "Porcupinefishes        14\n",
       "Scorpionfishes         13\n",
       "Butterflyfishes        13\n",
       "Pufferfishes           12\n",
       "Drums                  12\n",
       "Flounders              11\n",
       "Surgeonfishes          11\n",
       "Jawfishes              11\n",
       "Triggerfishes           9\n",
       "Chromis                 9\n",
       "Squirrelfishes          9\n",
       "Porgies                 8\n",
       "Rays                    8\n",
       "Chubs                   7\n",
       "Lionfishes              7\n",
       "Barracudas              6\n",
       "Remoras                 6\n",
       "Bigeyes                 6\n",
       "Soapfishes              6\n",
       "Lizardfishes            6\n",
       "Trumpetfishes           5\n",
       "Goatfishes              5\n",
       "Basslets                4\n",
       "Toadfishes              4\n",
       "Flying Gurnards         4\n",
       "Needlefishes            3\n",
       "Batfishes               3\n",
       "Halfbeaks               3\n",
       "Soldierfishes           3\n",
       "Bonefishes              3\n",
       "Spadefishes             3\n",
       "Seahorses               3\n",
       "Tilefishes              3\n",
       "Tarpons                 3\n",
       "Sweepers                3\n",
       "Hawkfishes              2\n",
       "Bonnetmouths            2\n",
       "Mackerels and Tunas     2\n",
       "Tonguefishes            2\n",
       "Dragonets               2\n",
       "Mojarras                2\n",
       "Cornetfishes            2\n",
       "Name: common_family, dtype: int64"
      ]
     },
     "execution_count": 36,
     "metadata": {},
     "output_type": "execute_result"
    }
   ],
   "source": [
    "test_expanded.common_family.value_counts()"
   ]
  },
  {
   "cell_type": "code",
   "execution_count": 37,
   "metadata": {},
   "outputs": [
    {
     "data": {
      "text/plain": [
       "'E:/LargeDatasets/SpeciesID-Images/Labridae/Halichoeres_bivittatus_/3894_13014.jpg'"
      ]
     },
     "execution_count": 37,
     "metadata": {},
     "output_type": "execute_result"
    }
   ],
   "source": [
    "train_expanded.image_paths.values[0]"
   ]
  },
  {
   "cell_type": "code",
   "execution_count": 38,
   "metadata": {},
   "outputs": [],
   "source": [
    "train_expanded.to_pickle('./files/train_set_1.pkl')\n",
    "val_expanded.to_pickle('./files/val_set_1.pkl')\n",
    "test_expanded.to_pickle('./files/test_set_1.pkl')"
   ]
  },
  {
   "cell_type": "markdown",
   "metadata": {},
   "source": [
    "## Reorganising files for AWS upload"
   ]
  },
  {
   "cell_type": "code",
   "execution_count": 2,
   "metadata": {},
   "outputs": [],
   "source": [
    "train_expanded = pd.read_pickle('./files/train_set_1.pkl')\n",
    "val_expanded = pd.read_pickle('./files/val_set_1.pkl')\n",
    "test_expanded = pd.read_pickle('./files/test_set_1.pkl')"
   ]
  },
  {
   "cell_type": "code",
   "execution_count": 3,
   "metadata": {},
   "outputs": [
    {
     "data": {
      "text/html": [
       "<div>\n",
       "<style scoped>\n",
       "    .dataframe tbody tr th:only-of-type {\n",
       "        vertical-align: middle;\n",
       "    }\n",
       "\n",
       "    .dataframe tbody tr th {\n",
       "        vertical-align: top;\n",
       "    }\n",
       "\n",
       "    .dataframe thead th {\n",
       "        text-align: right;\n",
       "    }\n",
       "</style>\n",
       "<table border=\"1\" class=\"dataframe\">\n",
       "  <thead>\n",
       "    <tr style=\"text-align: right;\">\n",
       "      <th></th>\n",
       "      <th>scientific_name</th>\n",
       "      <th>scientific_family</th>\n",
       "      <th>common_name</th>\n",
       "      <th>common_family</th>\n",
       "      <th>size_range_cm</th>\n",
       "      <th>depth_range_m</th>\n",
       "      <th>geodist</th>\n",
       "      <th>smithsonian_href</th>\n",
       "      <th>stj_href</th>\n",
       "      <th>image_paths</th>\n",
       "    </tr>\n",
       "  </thead>\n",
       "  <tbody>\n",
       "    <tr>\n",
       "      <th>0</th>\n",
       "      <td>Halichoeres bivittatus</td>\n",
       "      <td>Labridae</td>\n",
       "      <td>Slippery Dick</td>\n",
       "      <td>Wrasses</td>\n",
       "      <td>(12.0, 20.0)</td>\n",
       "      <td>(2.0, 12.0)</td>\n",
       "      <td>[Caribbean, Bahamas, Florida, Bermuda, Gulf of...</td>\n",
       "      <td>spe/3894</td>\n",
       "      <td>slippery-dick-wrasse.html</td>\n",
       "      <td>E:/LargeDatasets/SpeciesID-Images/Labridae/Hal...</td>\n",
       "    </tr>\n",
       "    <tr>\n",
       "      <th>1</th>\n",
       "      <td>Halichoeres bivittatus</td>\n",
       "      <td>Labridae</td>\n",
       "      <td>Slippery Dick</td>\n",
       "      <td>Wrasses</td>\n",
       "      <td>(12.0, 20.0)</td>\n",
       "      <td>(2.0, 12.0)</td>\n",
       "      <td>[Caribbean, Bahamas, Florida, Bermuda, Gulf of...</td>\n",
       "      <td>spe/3894</td>\n",
       "      <td>slippery-dick-wrasse.html</td>\n",
       "      <td>E:/LargeDatasets/SpeciesID-Images/Labridae/Hal...</td>\n",
       "    </tr>\n",
       "    <tr>\n",
       "      <th>2</th>\n",
       "      <td>Halichoeres bivittatus</td>\n",
       "      <td>Labridae</td>\n",
       "      <td>Slippery Dick</td>\n",
       "      <td>Wrasses</td>\n",
       "      <td>(12.0, 20.0)</td>\n",
       "      <td>(2.0, 12.0)</td>\n",
       "      <td>[Caribbean, Bahamas, Florida, Bermuda, Gulf of...</td>\n",
       "      <td>spe/3894</td>\n",
       "      <td>slippery-dick-wrasse.html</td>\n",
       "      <td>E:/LargeDatasets/SpeciesID-Images/Labridae/Hal...</td>\n",
       "    </tr>\n",
       "    <tr>\n",
       "      <th>3</th>\n",
       "      <td>Halichoeres bivittatus</td>\n",
       "      <td>Labridae</td>\n",
       "      <td>Slippery Dick</td>\n",
       "      <td>Wrasses</td>\n",
       "      <td>(12.0, 20.0)</td>\n",
       "      <td>(2.0, 12.0)</td>\n",
       "      <td>[Caribbean, Bahamas, Florida, Bermuda, Gulf of...</td>\n",
       "      <td>spe/3894</td>\n",
       "      <td>slippery-dick-wrasse.html</td>\n",
       "      <td>E:/LargeDatasets/SpeciesID-Images/Labridae/Hal...</td>\n",
       "    </tr>\n",
       "    <tr>\n",
       "      <th>4</th>\n",
       "      <td>Halichoeres bivittatus</td>\n",
       "      <td>Labridae</td>\n",
       "      <td>Slippery Dick</td>\n",
       "      <td>Wrasses</td>\n",
       "      <td>(12.0, 20.0)</td>\n",
       "      <td>(2.0, 12.0)</td>\n",
       "      <td>[Caribbean, Bahamas, Florida, Bermuda, Gulf of...</td>\n",
       "      <td>spe/3894</td>\n",
       "      <td>slippery-dick-wrasse.html</td>\n",
       "      <td>E:/LargeDatasets/SpeciesID-Images/Labridae/Hal...</td>\n",
       "    </tr>\n",
       "  </tbody>\n",
       "</table>\n",
       "</div>"
      ],
      "text/plain": [
       "          scientific_name scientific_family    common_name common_family  \\\n",
       "0  Halichoeres bivittatus          Labridae  Slippery Dick       Wrasses   \n",
       "1  Halichoeres bivittatus          Labridae  Slippery Dick       Wrasses   \n",
       "2  Halichoeres bivittatus          Labridae  Slippery Dick       Wrasses   \n",
       "3  Halichoeres bivittatus          Labridae  Slippery Dick       Wrasses   \n",
       "4  Halichoeres bivittatus          Labridae  Slippery Dick       Wrasses   \n",
       "\n",
       "  size_range_cm depth_range_m  \\\n",
       "0  (12.0, 20.0)   (2.0, 12.0)   \n",
       "1  (12.0, 20.0)   (2.0, 12.0)   \n",
       "2  (12.0, 20.0)   (2.0, 12.0)   \n",
       "3  (12.0, 20.0)   (2.0, 12.0)   \n",
       "4  (12.0, 20.0)   (2.0, 12.0)   \n",
       "\n",
       "                                             geodist smithsonian_href  \\\n",
       "0  [Caribbean, Bahamas, Florida, Bermuda, Gulf of...         spe/3894   \n",
       "1  [Caribbean, Bahamas, Florida, Bermuda, Gulf of...         spe/3894   \n",
       "2  [Caribbean, Bahamas, Florida, Bermuda, Gulf of...         spe/3894   \n",
       "3  [Caribbean, Bahamas, Florida, Bermuda, Gulf of...         spe/3894   \n",
       "4  [Caribbean, Bahamas, Florida, Bermuda, Gulf of...         spe/3894   \n",
       "\n",
       "                    stj_href  \\\n",
       "0  slippery-dick-wrasse.html   \n",
       "1  slippery-dick-wrasse.html   \n",
       "2  slippery-dick-wrasse.html   \n",
       "3  slippery-dick-wrasse.html   \n",
       "4  slippery-dick-wrasse.html   \n",
       "\n",
       "                                         image_paths  \n",
       "0  E:/LargeDatasets/SpeciesID-Images/Labridae/Hal...  \n",
       "1  E:/LargeDatasets/SpeciesID-Images/Labridae/Hal...  \n",
       "2  E:/LargeDatasets/SpeciesID-Images/Labridae/Hal...  \n",
       "3  E:/LargeDatasets/SpeciesID-Images/Labridae/Hal...  \n",
       "4  E:/LargeDatasets/SpeciesID-Images/Labridae/Hal...  "
      ]
     },
     "execution_count": 3,
     "metadata": {},
     "output_type": "execute_result"
    }
   ],
   "source": [
    "train_expanded.head()"
   ]
  },
  {
   "cell_type": "code",
   "execution_count": 8,
   "metadata": {},
   "outputs": [
    {
     "data": {
      "text/plain": [
       "'E:/LargeDatasets/SpeciesID-Images/Labridae/Halichoeres_bivittatus_/3894_13014.jpg'"
      ]
     },
     "execution_count": 8,
     "metadata": {},
     "output_type": "execute_result"
    }
   ],
   "source": [
    "train_expanded.image_paths.values[0]"
   ]
  },
  {
   "cell_type": "code",
   "execution_count": 11,
   "metadata": {},
   "outputs": [
    {
     "data": {
      "text/plain": [
       "'3894_13014.jpg'"
      ]
     },
     "execution_count": 11,
     "metadata": {},
     "output_type": "execute_result"
    }
   ],
   "source": [
    "train_expanded.image_paths.values[0].split('/')[-1]"
   ]
  },
  {
   "cell_type": "code",
   "execution_count": 14,
   "metadata": {},
   "outputs": [
    {
     "data": {
      "text/plain": [
       "59"
      ]
     },
     "execution_count": 14,
     "metadata": {},
     "output_type": "execute_result"
    }
   ],
   "source": [
    "train_expanded['common_family'].nunique()"
   ]
  },
  {
   "cell_type": "code",
   "execution_count": null,
   "metadata": {},
   "outputs": [],
   "source": []
  },
  {
   "cell_type": "code",
   "execution_count": 12,
   "metadata": {},
   "outputs": [],
   "source": [
    "# for every file in each dataset\n",
    "# maintain test, val, or train designation\n",
    "# move to folder eg. head/train/common-name\n",
    "\n",
    "# make new root\n",
    "new_root_dir = 'E:\\LargeDatasets\\SpeciesID-Images-ForAWS'\n",
    "os.mkdir(new_root_dir)\n",
    "\n",
    "# make train, val, test subdivisions\n",
    "subset_names = ['train','val','test']\n",
    "for d in subset_names:\n",
    "    new_dir = os.path.join(new_root_dir,d)\n",
    "    os.mkdir(new_dir)\n",
    "\n",
    "# add photos, further subdividing by common name\n",
    "for common_family in list(test_expanded.common_family.unique()):\n",
    "\n",
    "    new_dir = os.path.join(new_root_dir,'test',common_family)\n",
    "    os.mkdir(new_dir)\n",
    "\n",
    "    common_family_images = test_expanded[test_expanded.common_family == common_family]\n",
    "\n",
    "    for origin in common_family_images.image_paths.values:\n",
    "        filename = origin.split('/')[-1]\n",
    "        destination = os.path.join(new_root_dir,'test',common_family,filename)\n",
    "        shutil.copy(origin, destination)"
   ]
  },
  {
   "cell_type": "code",
   "execution_count": null,
   "metadata": {},
   "outputs": [],
   "source": [
    "for common_family in list(train_expanded.common_family.unique()):\n",
    "\n",
    "    new_dir = os.path.join(new_root_dir,'train',common_family)\n",
    "    os.mkdir(new_dir)\n",
    "\n",
    "    common_family_images = train_expanded[train_expanded.common_family == common_family]\n",
    "\n",
    "    for origin in common_family_images.image_paths.values:\n",
    "        filename = origin.split('/')[-1]\n",
    "        destination = os.path.join(new_root_dir,'train',common_family,filename)\n",
    "        shutil.copy(origin, destination)"
   ]
  },
  {
   "cell_type": "code",
   "execution_count": 13,
   "metadata": {},
   "outputs": [],
   "source": [
    "for common_family in list(val_expanded.common_family.unique()):\n",
    "\n",
    "    new_dir = os.path.join(new_root_dir,'val',common_family)\n",
    "    os.mkdir(new_dir)\n",
    "\n",
    "    common_family_images = val_expanded[val_expanded.common_family == common_family]\n",
    "\n",
    "    for origin in common_family_images.image_paths.values:\n",
    "        filename = origin.split('/')[-1]\n",
    "        destination = os.path.join(new_root_dir,'val',common_family,filename)\n",
    "        shutil.copy(origin, destination)"
   ]
  },
  {
   "cell_type": "code",
   "execution_count": null,
   "metadata": {},
   "outputs": [],
   "source": []
  }
 ],
 "metadata": {
  "kernelspec": {
   "display_name": "IDenv",
   "language": "python",
   "name": "python3"
  },
  "language_info": {
   "codemirror_mode": {
    "name": "ipython",
    "version": 3
   },
   "file_extension": ".py",
   "mimetype": "text/x-python",
   "name": "python",
   "nbconvert_exporter": "python",
   "pygments_lexer": "ipython3",
   "version": "3.10.10"
  },
  "orig_nbformat": 4
 },
 "nbformat": 4,
 "nbformat_minor": 2
}
